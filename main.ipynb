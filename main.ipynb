{
  "nbformat": 4,
  "nbformat_minor": 0,
  "metadata": {
    "kernelspec": {
      "name": "python3",
      "display_name": "Python 3"
    },
    "language_info": {
      "codemirror_mode": {
        "name": "ipython",
        "version": 3
      },
      "file_extension": ".py",
      "mimetype": "text/x-python",
      "name": "python",
      "nbconvert_exporter": "python",
      "pygments_lexer": "ipython3",
      "version": "3.7.5"
    },
    "colab": {
      "name": "main.ipynb",
      "provenance": [],
      "include_colab_link": true
    },
    "accelerator": "GPU"
  },
  "cells": [
    {
      "cell_type": "markdown",
      "metadata": {
        "id": "view-in-github",
        "colab_type": "text"
      },
      "source": [
        "<a href=\"https://colab.research.google.com/github/ParthikB/GANs/blob/master/main.ipynb\" target=\"_parent\"><img src=\"https://colab.research.google.com/assets/colab-badge.svg\" alt=\"Open In Colab\"/></a>"
      ]
    },
    {
      "cell_type": "code",
      "metadata": {
        "id": "-L4cM9QW8dRQ",
        "colab_type": "code",
        "colab": {
          "base_uri": "https://localhost:8080/",
          "height": 34
        },
        "outputId": "5b953167-b497-4f4a-9d32-61f37c2bd550"
      },
      "source": [
        "# Upload the 'utils.py' file onto Colab (if you're using Colab) using the upload button on the left side of the screen under the Files panel.\n",
        "\n",
        "import torch\n",
        "from torch import nn, optim\n",
        "from torch.autograd.variable import Variable\n",
        "from torchvision import transforms, datasets\n",
        "\n",
        "from utils import Logger\n",
        "from tqdm import tqdm\n",
        "from IPython import display\n",
        "\n",
        "if torch.cuda.is_available():\n",
        "    device = torch.device('cuda:0')\n",
        "    running_on = 'GPU'\n",
        "else:\n",
        "    device = torch.device('cpu')\n",
        "    running_on = 'CPU'\n",
        "print(f'Torch running on : {running_on}')"
      ],
      "execution_count": 18,
      "outputs": [
        {
          "output_type": "stream",
          "text": [
            "Torch running on : GPU\n"
          ],
          "name": "stdout"
        }
      ]
    },
    {
      "cell_type": "markdown",
      "metadata": {
        "id": "Z6UQVyTF8dRW",
        "colab_type": "text"
      },
      "source": [
        "## Helper Functions"
      ]
    },
    {
      "cell_type": "code",
      "metadata": {
        "id": "BmIfS4G18dRW",
        "colab_type": "code",
        "colab": {}
      },
      "source": [
        "def images_to_vector(image):\n",
        "    return image.view(image.size(0), 784)\n",
        "\n",
        "def vector_to_images(vector):\n",
        "    return vector.view(vector.size(0), 1, 28, 28)\n",
        "\n",
        "# Creating random noise to feed into the Generator\n",
        "def noise(size):\n",
        "    '''\n",
        "    Generates a 1-d vector of gaussian sampled random values\n",
        "    '''\n",
        "    n = Variable(torch.randn(size, 100))\n",
        "    return n.to(device)\n",
        "\n",
        "def ones_target(size):\n",
        "    '''\n",
        "    Tensor containing ones, with shape = size\n",
        "    '''\n",
        "    data = Variable(torch.ones(size, 1))\n",
        "    return data\n",
        "\n",
        "def zeros_target(size):\n",
        "    '''\n",
        "    Tensor containing zeros, with shape = size\n",
        "    '''\n",
        "    data = Variable(torch.zeros(size, 1))\n",
        "    return data\n",
        "\n",
        "def real_data_target(size):\n",
        "    '''\n",
        "    Tensor containing ones, with shape = size\n",
        "    '''\n",
        "    data = Variable(torch.ones(size, 1))\n",
        "    return data.to(device)\n",
        "\n",
        "def fake_data_target(size):\n",
        "    '''\n",
        "    Tensor containing zeros, with shape = size\n",
        "    '''\n",
        "    data = Variable(torch.zeros(size, 1))\n",
        "    return data.to(device)"
      ],
      "execution_count": 0,
      "outputs": []
    },
    {
      "cell_type": "markdown",
      "metadata": {
        "id": "0VM4eW0r8dRZ",
        "colab_type": "text"
      },
      "source": [
        "## Importing and Transforming the Data"
      ]
    },
    {
      "cell_type": "code",
      "metadata": {
        "scrolled": true,
        "id": "zCIfBL5Z8dRa",
        "colab_type": "code",
        "colab": {}
      },
      "source": [
        "''' \n",
        "Downloading the inbuild FashionMNIST Dataset. \n",
        "You can use your own dataset, don't forget to customize the Dimensions in the Network Class below according the the data being used.\n",
        "'''\n",
        "data = datasets.FashionMNIST('', train=True, download=True,\n",
        "                      transform=transforms.Compose([transforms.ToTensor()]))\n",
        "\n",
        "data_loader = torch.utils.data.DataLoader(data, batch_size=100, shuffle=True)\n",
        "\n",
        "num_batches = len(data_loader)"
      ],
      "execution_count": 0,
      "outputs": []
    },
    {
      "cell_type": "markdown",
      "metadata": {
        "id": "22NAFedj8dRj",
        "colab_type": "text"
      },
      "source": [
        "## Defining the Discriminator Network"
      ]
    },
    {
      "cell_type": "code",
      "metadata": {
        "id": "oxROGJdI8dRj",
        "colab_type": "code",
        "colab": {}
      },
      "source": [
        "class Discriminator(torch.nn.Module):\n",
        "    def __init__(self):\n",
        "        super(Discriminator, self).__init__()\n",
        "        INPUT_FEATURES = 784\n",
        "        OUTPUT_NODES   = 1\n",
        "        \n",
        "        self.layer1 = nn.Sequential(\n",
        "                        nn.Linear(INPUT_FEATURES, 1024),\n",
        "                        nn.LeakyReLU(0.2),\n",
        "                        nn.Dropout(0.3)\n",
        "                        )\n",
        "        \n",
        "        self.layer2 = nn.Sequential(\n",
        "                        nn.Linear(1024, 512),\n",
        "                        nn.LeakyReLU(0.2),\n",
        "                        nn.Dropout(0.3)\n",
        "                        )\n",
        "        \n",
        "        self.layer3 = nn.Sequential(\n",
        "                        nn.Linear(512, 256),\n",
        "                        nn.LeakyReLU(0.2),\n",
        "                        nn.Dropout(0.3)\n",
        "                        )\n",
        "        \n",
        "        self.output = nn.Sequential(\n",
        "                        nn.Linear(256, OUTPUT_NODES),\n",
        "                        nn.Sigmoid()\n",
        "                        )\n",
        "        \n",
        "    def forward(self, x):\n",
        "        x = self.layer1(x)\n",
        "        x = self.layer2(x)            \n",
        "        x = self.layer3(x)            \n",
        "        x = self.output(x)\n",
        "        return x"
      ],
      "execution_count": 0,
      "outputs": []
    },
    {
      "cell_type": "markdown",
      "metadata": {
        "id": "G4HU_lEl8dRm",
        "colab_type": "text"
      },
      "source": [
        "## Defining the Generative Network"
      ]
    },
    {
      "cell_type": "code",
      "metadata": {
        "id": "uzy1YATT8dRn",
        "colab_type": "code",
        "colab": {}
      },
      "source": [
        "class Generative(torch.nn.Module):\n",
        "    def __init__(self):\n",
        "        super(Generative, self).__init__()\n",
        "        INPUT_FEATURES = 100\n",
        "        OUTPUT_NODES   = 784\n",
        "        \n",
        "        self.layer1 = nn.Sequential(\n",
        "                        nn.Linear(INPUT_FEATURES, 256),\n",
        "                        nn.LeakyReLU(0.2)\n",
        "                        )\n",
        "        \n",
        "        self.layer2 = nn.Sequential(\n",
        "                        nn.Linear(256, 512),\n",
        "                        nn.LeakyReLU(0.2)\n",
        "                        )\n",
        "        \n",
        "        self.layer3 = nn.Sequential(\n",
        "                        nn.Linear(512, 1024),\n",
        "                        nn.LeakyReLU(0.2)\n",
        "                        )\n",
        "        \n",
        "        self.output = nn.Sequential(\n",
        "                        nn.Linear(1024, OUTPUT_NODES),\n",
        "                        nn.Tanh()\n",
        "                        )\n",
        "        \n",
        "    def forward(self, x):\n",
        "        x = self.layer1(x)\n",
        "        x = self.layer2(x)            \n",
        "        x = self.layer3(x)            \n",
        "        x = self.output(x)\n",
        "        return x"
      ],
      "execution_count": 0,
      "outputs": []
    },
    {
      "cell_type": "code",
      "metadata": {
        "id": "CQ6FRNDT8dRo",
        "colab_type": "code",
        "colab": {}
      },
      "source": [
        "# Function used to train the discriminator and minimize the d_loss\n",
        "def train_discriminator(optimizer, real_data, fake_data):\n",
        "    # Reset gradients\n",
        "    optimizer.zero_grad()\n",
        "    \n",
        "    # 1.1 Train on Real Data\n",
        "    prediction_real = discriminator(real_data)\n",
        "    # Calculate error and backpropagate\n",
        "    error_real = loss(prediction_real, real_data_target(real_data.size(0)))\n",
        "    error_real.backward()\n",
        "\n",
        "    # 1.2 Train on Fake Data\n",
        "    prediction_fake = discriminator(fake_data)\n",
        "    # Calculate error and backpropagate\n",
        "    error_fake = loss(prediction_fake, fake_data_target(real_data.size(0)))\n",
        "    error_fake.backward()\n",
        "    \n",
        "    # 1.3 Update weights with gradients\n",
        "    optimizer.step()\n",
        "    \n",
        "    # Return error\n",
        "    return error_real + error_fake, prediction_real, prediction_fake\n",
        "\n",
        "\n",
        "# Function used to train the generator and minimize the g_loss\n",
        "def train_generator(optimizer, fake_data):\n",
        "    # 2. Train Generator\n",
        "    # Reset gradients\n",
        "    optimizer.zero_grad()\n",
        "    # Sample noise and generate fake data\n",
        "    prediction = discriminator(fake_data)\n",
        "    # Calculate error and backpropagate\n",
        "    error = loss(prediction, real_data_target(prediction.size(0)))\n",
        "    error.backward()\n",
        "    # Update weights with gradients\n",
        "    optimizer.step()\n",
        "    # Return error\n",
        "    return error"
      ],
      "execution_count": 0,
      "outputs": []
    },
    {
      "cell_type": "markdown",
      "metadata": {
        "id": "c3JpU7LYDVXQ",
        "colab_type": "text"
      },
      "source": [
        "# Putting all together"
      ]
    },
    {
      "cell_type": "code",
      "metadata": {
        "id": "3p82J3QA8dRq",
        "colab_type": "code",
        "colab": {}
      },
      "source": [
        "# Creating the respective networks\n",
        "discriminator = Discriminator().to(device)\n",
        "generator     = Generative().to(device)\n",
        "\n",
        "# Defining the respective optimizers\n",
        "d_optimizer = optim.Adam(discriminator.parameters(), lr=2e-4)\n",
        "g_optimizer = optim.Adam(generator.parameters(), lr=2e-4)\n",
        "\n",
        "# Loss --> Binary Cross Entropy\n",
        "loss = nn.BCELoss()"
      ],
      "execution_count": 0,
      "outputs": []
    },
    {
      "cell_type": "code",
      "metadata": {
        "id": "oIRcs3y48dRu",
        "colab_type": "code",
        "colab": {
          "base_uri": "https://localhost:8080/",
          "height": 379
        },
        "outputId": "ba3161d9-f0eb-47e0-c647-ea48af355c15"
      },
      "source": [
        "EPOCHS           = 10  # Total number of epochs to train\n",
        "NUM_TEST_SAMPLES = 16  # Number of Test Samples to Display\n",
        "\n",
        "# Create logger instance\n",
        "logger = Logger(model_name='VGAN', data_name='MNIST')\n",
        "\n",
        "test_noise = noise(NUM_TEST_SAMPLES)\n",
        "\n",
        "for epoch in tqdm(range(EPOCHS)):\n",
        "    for n_batch, (real_batch,_) in enumerate(data_loader):\n",
        "\n",
        "        # 1. Train Discriminator\n",
        "        real_data = Variable(images_to_vector(real_batch)).to(device)\n",
        "        # Generate fake data\n",
        "        fake_data = generator(noise(real_data.size(0))).detach()\n",
        "        # Train D\n",
        "        d_error, d_pred_real, d_pred_fake = train_discriminator(d_optimizer,\n",
        "                                                                real_data, fake_data)\n",
        "\n",
        "        # 2. Train Generator\n",
        "        # Generate fake data\n",
        "        fake_data = generator(noise(real_batch.size(0)))\n",
        "        # Train G\n",
        "        g_error = train_generator(g_optimizer, fake_data)\n",
        "        # Log error\n",
        "        logger.log(d_error, g_error, epoch, n_batch, num_batches)\n",
        "\n",
        "        # Display Progress\n",
        "        if (n_batch) % 100 == 0:\n",
        "            display.clear_output(True)\n",
        "            # Display Images\n",
        "            test_images = vector_to_images(generator(test_noise)).data.cpu()\n",
        "            logger.log_images(test_images, NUM_TEST_SAMPLES, epoch, n_batch, num_batches);\n",
        "            # Display status Logs\n",
        "            logger.display_status(\n",
        "                epoch, EPOCHS, n_batch, num_batches,\n",
        "                d_error, g_error, d_pred_real, d_pred_fake\n",
        "            )\n",
        "        # Model Checkpoints\n",
        "        logger.save_models(generator, discriminator, epoch)"
      ],
      "execution_count": 26,
      "outputs": [
        {
          "output_type": "display_data",
          "data": {
            "image/png": "[encoded data removed]",
            "text/plain": [
              "<Figure size 1152x1152 with 1 Axes>"
            ]
          },
          "metadata": {
            "tags": []
          }
        },
        {
          "output_type": "stream",
          "text": [
            "Epoch: [9/10], Batch Num: [500/600]\n",
            "Discriminator Loss: 1.1101, Generator Loss: 1.5253\n",
            "D(x): 0.6028, D(G(z)): 0.2761\n"
          ],
          "name": "stdout"
        },
        {
          "output_type": "stream",
          "text": [
            "\n",
            "\n",
            "100%|██████████| 10/10 [29:02<00:00, 175.49s/it]\u001b[A\u001b[A\n",
            "\n",
            "\u001b[A\u001b[A"
          ],
          "name": "stderr"
        }
      ]
    },
    {
      "cell_type": "code",
      "metadata": {
        "id": "LX2lBdfhEUtI",
        "colab_type": "code",
        "colab": {}
      },
      "source": [
        ""
      ],
      "execution_count": 0,
      "outputs": []
    }
  ]
}